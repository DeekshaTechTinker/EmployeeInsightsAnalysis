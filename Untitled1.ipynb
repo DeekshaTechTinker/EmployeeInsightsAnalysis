{
  "nbformat": 4,
  "nbformat_minor": 0,
  "metadata": {
    "colab": {
      "provenance": []
    },
    "kernelspec": {
      "name": "python3",
      "display_name": "Python 3"
    },
    "language_info": {
      "name": "python"
    }
  },
  "cells": [
    {
      "cell_type": "code",
      "execution_count": 14,
      "metadata": {
        "id": "9WZRbWHzR16f"
      },
      "outputs": [],
      "source": [
        "import pandas as pd\n",
        "\n",
        "data = pd.read_csv(\"Employee_HR.csv\")\n"
      ]
    },
    {
      "cell_type": "code",
      "source": [
        "hr_data = data[data['Department'] == 'HR']\n",
        "marketing_data = data[data['Department'] == 'Marketing']"
      ],
      "metadata": {
        "id": "1-jtAEL-Tv-E"
      },
      "execution_count": 8,
      "outputs": []
    },
    {
      "cell_type": "code",
      "source": [
        "hr_variance = hr_data['Salary_INR'].var()\n",
        "hr_std_deviation = hr_data['Salary_INR'].std()\n",
        "hr_iqr = hr_data['Salary_INR'].quantile(0.75) - hr_data['Salary_INR'].quantile(0.25)\n"
      ],
      "metadata": {
        "id": "QiHdrkjHUXdE"
      },
      "execution_count": 10,
      "outputs": []
    },
    {
      "cell_type": "code",
      "source": [
        "marketing_variance = marketing_data['Salary_INR'].var()\n",
        "marketing_std_deviation = marketing_data['Salary_INR'].std()\n",
        "marketing_iqr = marketing_data['Salary_INR'].quantile(0.75) - marketing_data['Salary_INR'].quantile(0.25)\n"
      ],
      "metadata": {
        "id": "cmjhF8ScU1Iu"
      },
      "execution_count": 16,
      "outputs": []
    },
    {
      "cell_type": "code",
      "source": [
        "print(\"HR Department Statistics:\")\n",
        "print(f\"Variance: {hr_variance}\")\n",
        "print(f\"Standard Deviation: {hr_std_deviation}\")\n",
        "print(f\"IQR (Interquartile Range): {hr_iqr}\")\n",
        "\n",
        "print(\"\\nMarketing Department Statistics:\")\n",
        "print(f\"Variance: {marketing_variance}\")\n",
        "print(f\"Standard Deviation: {marketing_std_deviation}\")\n",
        "print(f\"IQR (Interquartile Range): {marketing_iqr}\")"
      ],
      "metadata": {
        "colab": {
          "base_uri": "https://localhost:8080/"
        },
        "id": "2gnFfHV1VEzR",
        "outputId": "8816efd2-d30e-478b-e2d2-128fef19e5cc"
      },
      "execution_count": 15,
      "outputs": [
        {
          "output_type": "stream",
          "name": "stdout",
          "text": [
            "HR Department Statistics:\n",
            "Variance: nan\n",
            "Standard Deviation: nan\n",
            "IQR (Interquartile Range): nan\n",
            "\n",
            "Marketing Department Statistics:\n",
            "Variance: nan\n",
            "Standard Deviation: nan\n",
            "IQR (Interquartile Range): nan\n"
          ]
        }
      ]
    },
    {
      "cell_type": "markdown",
      "source": [
        "# New Section"
      ],
      "metadata": {
        "id": "NN6v5JSpR8AT"
      }
    },
    {
      "cell_type": "code",
      "source": [
        "import pandas as pd\n",
        "\n",
        "# Load the dataset\n",
        "data = pd.read_csv(\"Employee_HR.csv\")\n",
        "\n",
        "# Filter the data for HR and Marketing departments\n",
        "hr_data = data[data['Department'] == 'HR']\n",
        "marketing_data = data[data['Department'] == 'Marketing']\n",
        "\n",
        "# Clean the data by removing rows with missing or non-numeric salary values\n",
        "hr_data = hr_data.dropna(subset=['Salary_INR'])\n",
        "hr_data['Salary_INR'] = pd.to_numeric(hr_data['Salary_INR'], errors='coerce')\n",
        "\n",
        "marketing_data = marketing_data.dropna(subset=['Salary_INR'])\n",
        "marketing_data['Salary_INR'] = pd.to_numeric(marketing_data['Salary_INR'], errors='coerce')\n",
        "\n",
        "# Calculate variance, standard deviation, and IQR for HR salaries\n",
        "hr_variance = hr_data['Salary_INR'].var()\n",
        "hr_std_deviation = hr_data['Salary_INR'].std()\n",
        "hr_iqr = hr_data['Salary_INR'].quantile(0.75) - hr_data['Salary_INR'].quantile(0.25)\n",
        "\n",
        "\n",
        "marketing_variance = marketing_data['Salary_INR'].var()\n",
        "marketing_std_deviation = marketing_data['Salary_INR'].std()\n",
        "marketing_iqr = marketing_data['Salary_INR'].quantile(0.75) - marketing_data['Salary_INR'].quantile(0.25)\n",
        "\n",
        "\n",
        "print(\"HR Department Statistics:\")\n",
        "print(f\"Variance: {hr_variance}\")\n",
        "print(f\"Standard Deviation: {hr_std_deviation}\")\n",
        "print(f\"IQR (Interquartile Range): {hr_iqr}\")\n",
        "\n",
        "print(\"\\nMarketing Department Statistics:\")\n",
        "print(f\"Variance: {marketing_variance}\")\n",
        "print(f\"Standard Deviation: {marketing_std_deviation}\")\n",
        "print(f\"IQR (Interquartile Range): {marketing_iqr}\")"
      ],
      "metadata": {
        "colab": {
          "base_uri": "https://localhost:8080/"
        },
        "id": "iYt1fBmmYqNj",
        "outputId": "4224966b-e889-4866-9bd8-0b36346a42c3"
      },
      "execution_count": 18,
      "outputs": [
        {
          "output_type": "stream",
          "name": "stdout",
          "text": [
            "HR Department Statistics:\n",
            "Variance: nan\n",
            "Standard Deviation: nan\n",
            "IQR (Interquartile Range): nan\n",
            "\n",
            "Marketing Department Statistics:\n",
            "Variance: nan\n",
            "Standard Deviation: nan\n",
            "IQR (Interquartile Range): nan\n"
          ]
        }
      ]
    },
    {
      "cell_type": "markdown",
      "source": [
        "What is the range of experience in the IT department?"
      ],
      "metadata": {
        "id": "9vJWL7jZaC4r"
      }
    },
    {
      "cell_type": "code",
      "source": [
        "import pandas as pd\n",
        "\n",
        "# Load the dataset\n",
        "data = pd.read_csv(\"/content/Employee_HR.csv\")\n",
        "\n",
        "# Filter the data for the IT department\n",
        "it_data = data[data['Department'] == 'IT']\n",
        "\n",
        "# Calculate the range of experience in the IT department\n",
        "min_experience = it_data['Experience'].min()\n",
        "max_experience = it_data['Experience'].max()\n",
        "\n",
        "# Print the results\n",
        "print(f\"The range of experience in the IT department is from {min_experience} years to {max_experience} years.\")\n"
      ],
      "metadata": {
        "colab": {
          "base_uri": "https://localhost:8080/",
          "height": 504
        },
        "id": "a7xXqM4faChf",
        "outputId": "ce169cd6-093e-49b5-d4cc-3ff8316ca638"
      },
      "execution_count": 23,
      "outputs": [
        {
          "output_type": "error",
          "ename": "KeyError",
          "evalue": "ignored",
          "traceback": [
            "\u001b[0;31m---------------------------------------------------------------------------\u001b[0m",
            "\u001b[0;31mKeyError\u001b[0m                                  Traceback (most recent call last)",
            "\u001b[0;32m/usr/local/lib/python3.10/dist-packages/pandas/core/indexes/base.py\u001b[0m in \u001b[0;36mget_loc\u001b[0;34m(self, key, method, tolerance)\u001b[0m\n\u001b[1;32m   3801\u001b[0m             \u001b[0;32mtry\u001b[0m\u001b[0;34m:\u001b[0m\u001b[0;34m\u001b[0m\u001b[0;34m\u001b[0m\u001b[0m\n\u001b[0;32m-> 3802\u001b[0;31m                 \u001b[0;32mreturn\u001b[0m \u001b[0mself\u001b[0m\u001b[0;34m.\u001b[0m\u001b[0m_engine\u001b[0m\u001b[0;34m.\u001b[0m\u001b[0mget_loc\u001b[0m\u001b[0;34m(\u001b[0m\u001b[0mcasted_key\u001b[0m\u001b[0;34m)\u001b[0m\u001b[0;34m\u001b[0m\u001b[0;34m\u001b[0m\u001b[0m\n\u001b[0m\u001b[1;32m   3803\u001b[0m             \u001b[0;32mexcept\u001b[0m \u001b[0mKeyError\u001b[0m \u001b[0;32mas\u001b[0m \u001b[0merr\u001b[0m\u001b[0;34m:\u001b[0m\u001b[0;34m\u001b[0m\u001b[0;34m\u001b[0m\u001b[0m\n",
            "\u001b[0;32m/usr/local/lib/python3.10/dist-packages/pandas/_libs/index.pyx\u001b[0m in \u001b[0;36mpandas._libs.index.IndexEngine.get_loc\u001b[0;34m()\u001b[0m\n",
            "\u001b[0;32m/usr/local/lib/python3.10/dist-packages/pandas/_libs/index.pyx\u001b[0m in \u001b[0;36mpandas._libs.index.IndexEngine.get_loc\u001b[0;34m()\u001b[0m\n",
            "\u001b[0;32mpandas/_libs/hashtable_class_helper.pxi\u001b[0m in \u001b[0;36mpandas._libs.hashtable.PyObjectHashTable.get_item\u001b[0;34m()\u001b[0m\n",
            "\u001b[0;32mpandas/_libs/hashtable_class_helper.pxi\u001b[0m in \u001b[0;36mpandas._libs.hashtable.PyObjectHashTable.get_item\u001b[0;34m()\u001b[0m\n",
            "\u001b[0;31mKeyError\u001b[0m: 'Experience'",
            "\nThe above exception was the direct cause of the following exception:\n",
            "\u001b[0;31mKeyError\u001b[0m                                  Traceback (most recent call last)",
            "\u001b[0;32m<ipython-input-23-2f6a6625897d>\u001b[0m in \u001b[0;36m<cell line: 10>\u001b[0;34m()\u001b[0m\n\u001b[1;32m      8\u001b[0m \u001b[0;34m\u001b[0m\u001b[0m\n\u001b[1;32m      9\u001b[0m \u001b[0;31m# Calculate the range of experience in the IT department\u001b[0m\u001b[0;34m\u001b[0m\u001b[0;34m\u001b[0m\u001b[0m\n\u001b[0;32m---> 10\u001b[0;31m \u001b[0mmin_experience\u001b[0m \u001b[0;34m=\u001b[0m \u001b[0mit_data\u001b[0m\u001b[0;34m[\u001b[0m\u001b[0;34m'Experience'\u001b[0m\u001b[0;34m]\u001b[0m\u001b[0;34m.\u001b[0m\u001b[0mmin\u001b[0m\u001b[0;34m(\u001b[0m\u001b[0;34m)\u001b[0m\u001b[0;34m\u001b[0m\u001b[0;34m\u001b[0m\u001b[0m\n\u001b[0m\u001b[1;32m     11\u001b[0m \u001b[0mmax_experience\u001b[0m \u001b[0;34m=\u001b[0m \u001b[0mit_data\u001b[0m\u001b[0;34m[\u001b[0m\u001b[0;34m'Experience'\u001b[0m\u001b[0;34m]\u001b[0m\u001b[0;34m.\u001b[0m\u001b[0mmax\u001b[0m\u001b[0;34m(\u001b[0m\u001b[0;34m)\u001b[0m\u001b[0;34m\u001b[0m\u001b[0;34m\u001b[0m\u001b[0m\n\u001b[1;32m     12\u001b[0m \u001b[0;34m\u001b[0m\u001b[0m\n",
            "\u001b[0;32m/usr/local/lib/python3.10/dist-packages/pandas/core/frame.py\u001b[0m in \u001b[0;36m__getitem__\u001b[0;34m(self, key)\u001b[0m\n\u001b[1;32m   3805\u001b[0m             \u001b[0;32mif\u001b[0m \u001b[0mself\u001b[0m\u001b[0;34m.\u001b[0m\u001b[0mcolumns\u001b[0m\u001b[0;34m.\u001b[0m\u001b[0mnlevels\u001b[0m \u001b[0;34m>\u001b[0m \u001b[0;36m1\u001b[0m\u001b[0;34m:\u001b[0m\u001b[0;34m\u001b[0m\u001b[0;34m\u001b[0m\u001b[0m\n\u001b[1;32m   3806\u001b[0m                 \u001b[0;32mreturn\u001b[0m \u001b[0mself\u001b[0m\u001b[0;34m.\u001b[0m\u001b[0m_getitem_multilevel\u001b[0m\u001b[0;34m(\u001b[0m\u001b[0mkey\u001b[0m\u001b[0;34m)\u001b[0m\u001b[0;34m\u001b[0m\u001b[0;34m\u001b[0m\u001b[0m\n\u001b[0;32m-> 3807\u001b[0;31m             \u001b[0mindexer\u001b[0m \u001b[0;34m=\u001b[0m \u001b[0mself\u001b[0m\u001b[0;34m.\u001b[0m\u001b[0mcolumns\u001b[0m\u001b[0;34m.\u001b[0m\u001b[0mget_loc\u001b[0m\u001b[0;34m(\u001b[0m\u001b[0mkey\u001b[0m\u001b[0;34m)\u001b[0m\u001b[0;34m\u001b[0m\u001b[0;34m\u001b[0m\u001b[0m\n\u001b[0m\u001b[1;32m   3808\u001b[0m             \u001b[0;32mif\u001b[0m \u001b[0mis_integer\u001b[0m\u001b[0;34m(\u001b[0m\u001b[0mindexer\u001b[0m\u001b[0;34m)\u001b[0m\u001b[0;34m:\u001b[0m\u001b[0;34m\u001b[0m\u001b[0;34m\u001b[0m\u001b[0m\n\u001b[1;32m   3809\u001b[0m                 \u001b[0mindexer\u001b[0m \u001b[0;34m=\u001b[0m \u001b[0;34m[\u001b[0m\u001b[0mindexer\u001b[0m\u001b[0;34m]\u001b[0m\u001b[0;34m\u001b[0m\u001b[0;34m\u001b[0m\u001b[0m\n",
            "\u001b[0;32m/usr/local/lib/python3.10/dist-packages/pandas/core/indexes/base.py\u001b[0m in \u001b[0;36mget_loc\u001b[0;34m(self, key, method, tolerance)\u001b[0m\n\u001b[1;32m   3802\u001b[0m                 \u001b[0;32mreturn\u001b[0m \u001b[0mself\u001b[0m\u001b[0;34m.\u001b[0m\u001b[0m_engine\u001b[0m\u001b[0;34m.\u001b[0m\u001b[0mget_loc\u001b[0m\u001b[0;34m(\u001b[0m\u001b[0mcasted_key\u001b[0m\u001b[0;34m)\u001b[0m\u001b[0;34m\u001b[0m\u001b[0;34m\u001b[0m\u001b[0m\n\u001b[1;32m   3803\u001b[0m             \u001b[0;32mexcept\u001b[0m \u001b[0mKeyError\u001b[0m \u001b[0;32mas\u001b[0m \u001b[0merr\u001b[0m\u001b[0;34m:\u001b[0m\u001b[0;34m\u001b[0m\u001b[0;34m\u001b[0m\u001b[0m\n\u001b[0;32m-> 3804\u001b[0;31m                 \u001b[0;32mraise\u001b[0m \u001b[0mKeyError\u001b[0m\u001b[0;34m(\u001b[0m\u001b[0mkey\u001b[0m\u001b[0;34m)\u001b[0m \u001b[0;32mfrom\u001b[0m \u001b[0merr\u001b[0m\u001b[0;34m\u001b[0m\u001b[0;34m\u001b[0m\u001b[0m\n\u001b[0m\u001b[1;32m   3805\u001b[0m             \u001b[0;32mexcept\u001b[0m \u001b[0mTypeError\u001b[0m\u001b[0;34m:\u001b[0m\u001b[0;34m\u001b[0m\u001b[0;34m\u001b[0m\u001b[0m\n\u001b[1;32m   3806\u001b[0m                 \u001b[0;31m# If we have a listlike key, _check_indexing_error will raise\u001b[0m\u001b[0;34m\u001b[0m\u001b[0;34m\u001b[0m\u001b[0m\n",
            "\u001b[0;31mKeyError\u001b[0m: 'Experience'"
          ]
        }
      ]
    }
  ]
}